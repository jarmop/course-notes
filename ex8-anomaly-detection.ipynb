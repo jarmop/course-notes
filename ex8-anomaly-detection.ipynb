{
 "cells": [
  {
   "cell_type": "code",
   "execution_count": 8,
   "metadata": {
    "collapsed": false
   },
   "outputs": [
    {
     "name": "stdout",
     "output_type": "stream",
     "text": [
      "warning: load: '/Users/jarmo/development/projects/stanford-machine-learning-course/exercises/ex8/ex8data1.mat' found by searching load path\r\n"
     ]
    }
   ],
   "source": [
    "%% Machine Learning Online Class\n",
    "%  Exercise 8 | Anomaly Detection and Collaborative Filtering\n",
    "%\n",
    "%  Instructions\n",
    "%  ------------\n",
    "%\n",
    "%  This file contains code that helps you get started on the\n",
    "%  exercise. You will need to complete the following functions:\n",
    "%\n",
    "%     estimateGaussian.m\n",
    "%     selectThreshold.m\n",
    "%     cofiCostFunc.m\n",
    "%\n",
    "%  For this exercise, you will not need to change any code in this file,\n",
    "%  or any other files other than those mentioned above.\n",
    "%\n",
    "\n",
    "%% Initialization\n",
    "%clear ; close all; clc\n",
    "\n",
    "%% ================== Part 1: Load Example Dataset  ===================\n",
    "%  We start this exercise by using a small dataset that is easy to\n",
    "%  visualize.\n",
    "%\n",
    "%  Our example case consists of 2 network server statistics across\n",
    "%  several machines: the latency and throughput of each machine.\n",
    "%  This exercise will help us find possibly faulty (or very fast) machines.\n",
    "%\n",
    "\n",
    "%fprintf('Visualizing example dataset for outlier detection.\\n\\n');\n",
    "\n",
    "%  The following command loads the dataset. You should now have the\n",
    "%  variables X, Xval, yval in your environment\n",
    "addpath('exercises/ex8');\n",
    "load('ex8data1.mat');\n",
    "\n",
    "%  Visualize the example dataset\n",
    "%plot(X(:, 1), X(:, 2), 'bx');\n",
    "%axis([0 30 0 30]);\n",
    "%xlabel('Latency (ms)');\n",
    "%ylabel('Throughput (mb/s)');"
   ]
  },
  {
   "cell_type": "code",
   "execution_count": 17,
   "metadata": {
    "collapsed": false
   },
   "outputs": [
    {
     "name": "stdout",
     "output_type": "stream",
     "text": [
      "mu =\n",
      "\n",
      "   14.112   14.998\n",
      "\n",
      "sigma2 =\n",
      "\n",
      "   1.8326   1.7097\n",
      "\n"
     ]
    }
   ],
   "source": [
    "%% ================== Part 2: Estimate the dataset statistics ===================\n",
    "%  For this exercise, we assume a Gaussian distribution for the dataset.\n",
    "%\n",
    "%  We first estimate the parameters of our assumed Gaussian distribution, \n",
    "%  then compute the probabilities for each of the points and then visualize \n",
    "%  both the overall distribution and where each of the points falls in \n",
    "%  terms of that distribution.\n",
    "%\n",
    "%fprintf('Visualizing Gaussian fit.\\n\\n');\n",
    "function [mu sigma2] = estimateGaussian(X)\n",
    "    %ESTIMATEGAUSSIAN This function estimates the parameters of a\n",
    "    %Gaussian distribution using the data in X\n",
    "    %   [mu sigma2] = estimateGaussian(X),\n",
    "    %   The input X is the dataset with each n-dimensional data point in one row\n",
    "    %   The output is an n-dimensional vector mu, the mean of the data set\n",
    "    %   and the variances sigma^2, an n x 1 vector\n",
    "    %\n",
    "\n",
    "    % Useful variables\n",
    "    [m, n] = size(X);\n",
    "\n",
    "    % You should return these values correctly\n",
    "    mu = zeros(n, 1);\n",
    "    sigma2 = zeros(n, 1);\n",
    "\n",
    "    % ====================== YOUR CODE HERE ======================\n",
    "    % Instructions: Compute the mean of the data and the variances\n",
    "    %               In particular, mu(i) should contain the mean of\n",
    "    %               the data for the i-th feature and sigma2(i)\n",
    "    %               should contain variance of the i-th feature.\n",
    "    %\n",
    "\n",
    "    mu = sum(X) / m;\n",
    "    sigma2 = sum((X - mu).^2) / m;\n",
    "\n",
    "    % =============================================================\n",
    "\n",
    "\n",
    "end\n",
    "\n",
    "%  Estimate my and sigma2\n",
    "[mu sigma2] = estimateGaussian(X)\n",
    "\n",
    "%  Returns the density of the multivariate normal at each data point (row) \n",
    "%  of X\n",
    "p = multivariateGaussian(X, mu, sigma2);\n",
    "\n",
    "%  Visualize the fit\n",
    "%visualizeFit(X,  mu, sigma2);\n",
    "%xlabel('Latency (ms)');\n",
    "%ylabel('Throughput (mb/s)');"
   ]
  },
  {
   "cell_type": "code",
   "execution_count": 39,
   "metadata": {
    "collapsed": false
   },
   "outputs": [
    {
     "name": "stdout",
     "output_type": "stream",
     "text": [
      "Best epsilon found using cross-validation: 8.990853e-05\n",
      "Best F1 on Cross Validation Set:  0.875000\n",
      "   (you should see a value epsilon of about 8.99e-05)\n",
      "\n"
     ]
    }
   ],
   "source": [
    "%% ================== Part 3: Find Outliers ===================\n",
    "%  Now you will find a good epsilon threshold using a cross-validation set\n",
    "%  probabilities given the estimated Gaussian distribution\n",
    "% \n",
    "\n",
    "function [bestEpsilon bestF1] = selectThreshold(yval, pval)\n",
    "    %SELECTTHRESHOLD Find the best threshold (epsilon) to use for selecting\n",
    "    %outliers\n",
    "    %   [bestEpsilon bestF1] = SELECTTHRESHOLD(yval, pval) finds the best\n",
    "    %   threshold to use for selecting outliers based on the results from a\n",
    "    %   validation set (pval) and the ground truth (yval).\n",
    "    %\n",
    "\n",
    "    bestEpsilon = 0;\n",
    "    bestF1 = 0;\n",
    "    F1 = 0;\n",
    "\n",
    "    stepsize = (max(pval) - min(pval)) / 1000;\n",
    "    for epsilon = min(pval):stepsize:max(pval)\n",
    "    %for epsilon = min(pval):stepsize:(min(pval) + stepsize * 10)\n",
    "\n",
    "        % ====================== YOUR CODE HERE ======================\n",
    "        % Instructions: Compute the F1 score of choosing epsilon as the\n",
    "        %               threshold and place the value in F1. The code at the\n",
    "        %               end of the loop will compare the F1 score for this\n",
    "        %               choice of epsilon and set it to be the best epsilon if\n",
    "        %               it is better than the current choice of epsilon.\n",
    "        %\n",
    "        % Note: You can use predictions = (pval < epsilon) to get a binary vector\n",
    "        %       of 0's and 1's of the outlier predictions\n",
    "\n",
    "        \n",
    "        %size(pred)\n",
    "        %pred(1:5,:)\n",
    "        %yval(1:5,:)\n",
    "        \n",
    "        %tp = pred .* yval;\n",
    "        %size(tp)\n",
    "        \n",
    "        %testy = [0;0;1;1;0];\n",
    "        %testp = [0;1;1;1;0];\n",
    "        %\n",
    "        %tp = sum(testy .* testp)\n",
    "        %fp = sum(testp .* (testy == 0))\n",
    "        %fn = sum((testp == 0) .* testy)\n",
    "        \n",
    "        pred = (pval < epsilon);\n",
    "        tp = sum(pred .* yval);\n",
    "        fp = sum(pred .* (yval == 0));\n",
    "        fn = sum((pred == 0) .* yval);\n",
    "\n",
    "        prec = 0;\n",
    "        if ((tp + fp) > 0) \n",
    "            prec = tp / (tp + fp);\n",
    "        endif\n",
    "\n",
    "        rec = 0;\n",
    "        if ((tp + fn) > 0)\n",
    "            rec = tp / (tp + fn);\n",
    "        endif\n",
    "\n",
    "        F1 = 0;\n",
    "        if ((prec + rec) > 0)\n",
    "            F1 = (2 * prec * rec) / (prec + rec);\n",
    "        endif\n",
    "        %F1\n",
    "\n",
    "        % =============================================================\n",
    "\n",
    "        if F1 > bestF1\n",
    "           bestF1 = F1;\n",
    "           bestEpsilon = epsilon;\n",
    "        end\n",
    "    end\n",
    "\n",
    "end\n",
    "\n",
    "pval = multivariateGaussian(Xval, mu, sigma2);\n",
    "\n",
    "[epsilon F1] = selectThreshold(yval, pval);\n",
    "fprintf('Best epsilon found using cross-validation: %e\\n', epsilon);\n",
    "fprintf('Best F1 on Cross Validation Set:  %f\\n', F1);\n",
    "fprintf('   (you should see a value epsilon of about 8.99e-05)\\n\\n');\n",
    "\n",
    "%  Find the outliers in the training set and plot the\n",
    "outliers = find(p < epsilon);\n",
    "\n",
    "%  Draw a red circle around those outliers\n",
    "%hold on\n",
    "%plot(X(outliers, 1), X(outliers, 2), 'ro', 'LineWidth', 2, 'MarkerSize', 10);\n",
    "%hold off"
   ]
  },
  {
   "cell_type": "code",
   "execution_count": 6,
   "metadata": {
    "collapsed": false
   },
   "outputs": [
    {
     "name": "stdout",
     "output_type": "stream",
     "text": [
      "warning: load: '/Users/jarmo/development/projects/stanford-machine-learning-course/exercises/ex8/ex8data2.mat' found by searching load path\r\n"
     ]
    }
   ],
   "source": [
    "%% ================== Part 4: Multidimensional Outliers ===================\n",
    "%  We will now use the code from the previous part and apply it to a \n",
    "%  harder problem in which more features describe each datapoint and only \n",
    "%  some features indicate whether a point is an outlier.\n",
    "%\n",
    "\n",
    "%  Loads the second dataset. You should now have the\n",
    "%  variables X, Xval, yval in your environment\n",
    "load('ex8data2.mat');"
   ]
  },
  {
   "cell_type": "code",
   "execution_count": 7,
   "metadata": {
    "collapsed": false
   },
   "outputs": [
    {
     "name": "stdout",
     "output_type": "stream",
     "text": [
      "Best epsilon found using cross-validation: 0.000000e+00\n",
      "Best F1 on Cross Validation Set:  0.000000\n",
      "# Outliers found: 0\n",
      "   (you should see a value epsilon of about 1.38e-18)\n",
      "\n"
     ]
    }
   ],
   "source": [
    "%  Apply the same steps to the larger dataset\n",
    "[mu sigma2] = estimateGaussian(X);\n",
    "\n",
    "%  Training set \n",
    "p = multivariateGaussian(X, mu, sigma2);\n",
    "\n",
    "%  Cross-validation set\n",
    "pval = multivariateGaussian(Xval, mu, sigma2);\n",
    "\n",
    "%  Find the best threshold\n",
    "[epsilon F1] = selectThreshold(yval, pval);\n",
    "\n",
    "fprintf('Best epsilon found using cross-validation: %e\\n', epsilon);\n",
    "fprintf('Best F1 on Cross Validation Set:  %f\\n', F1);\n",
    "fprintf('# Outliers found: %d\\n', sum(p < epsilon));\n",
    "fprintf('   (you should see a value epsilon of about 1.38e-18)\\n\\n');\n"
   ]
  }
 ],
 "metadata": {
  "kernelspec": {
   "display_name": "Octave",
   "language": "octave",
   "name": "octave"
  },
  "language_info": {
   "file_extension": ".m",
   "help_links": [
    {
     "text": "MetaKernel Magics",
     "url": "https://github.com/calysto/metakernel/blob/master/metakernel/magics/README.md"
    }
   ],
   "mimetype": "text/x-octave",
   "name": "octave",
   "version": "0.16.0"
  }
 },
 "nbformat": 4,
 "nbformat_minor": 0
}
