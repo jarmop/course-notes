{
 "cells": [
  {
   "cell_type": "code",
   "execution_count": 2,
   "metadata": {
    "collapsed": false
   },
   "outputs": [
    {
     "name": "stdout",
     "output_type": "stream",
     "text": [
      "warning: load: '/Users/jarmo/development/projects/stanford-machine-learning-course/exercises/ex6/ex6data1.mat' found by searching load path\r\n"
     ]
    }
   ],
   "source": [
    "%% Machine Learning Online Class\n",
    "%  Exercise 6 | Support Vector Machines\n",
    "%\n",
    "%  Instructions\n",
    "%  ------------\n",
    "% \n",
    "%  This file contains code that helps you get started on the\n",
    "%  exercise. You will need to complete the following functions:\n",
    "%\n",
    "%     gaussianKernel.m\n",
    "%     dataset3Params.m\n",
    "%     processEmail.m\n",
    "%     emailFeatures.m\n",
    "%\n",
    "%  For this exercise, you will not need to change any code in this file,\n",
    "%  or any other files other than those mentioned above.\n",
    "%\n",
    "\n",
    "%% Initialization\n",
    "%clear ; close all; clc\n",
    "\n",
    "%% =============== Part 1: Loading and Visualizing Data ================\n",
    "%  We start the exercise by first loading and visualizing the dataset. \n",
    "%  The following code will load the dataset into your environment and plot\n",
    "%  the data.\n",
    "%\n",
    "\n",
    "% Load from ex6data1: \n",
    "% You will have X, y in your environment\n",
    "addpath (\"exercises/ex6\");\n",
    "load('ex6data1.mat');\n",
    "\n",
    "% Plot training data\n",
    "%plotData(X, y);"
   ]
  },
  {
   "cell_type": "code",
   "execution_count": 3,
   "metadata": {
    "collapsed": false
   },
   "outputs": [
    {
     "name": "stdout",
     "output_type": "stream",
     "text": [
      "\n",
      "Training ......................................................................\n",
      "............................................................................ Done! \n",
      "\n"
     ]
    }
   ],
   "source": [
    "%% ==================== Part 2: Training Linear SVM ====================\n",
    "%  The following code will train a linear SVM on the dataset and plot the\n",
    "%  decision boundary learned.\n",
    "%\n",
    "\n",
    "% Load from ex6data1: \n",
    "% You will have X, y in your environment\n",
    "%load('ex6data1.mat');\n",
    "\n",
    "% You should try to change the C value below and see how the decision\n",
    "% boundary varies (e.g., try C = 1000)\n",
    "C = 1;\n",
    "model = svmTrain(X, y, C, @linearKernel, 1e-3, 20);\n",
    "%visualizeBoundaryLinear(X, y, model);"
   ]
  },
  {
   "cell_type": "code",
   "execution_count": 7,
   "metadata": {
    "collapsed": false
   },
   "outputs": [
    {
     "name": "stdout",
     "output_type": "stream",
     "text": [
      "Gaussian Kernel between x1 = [1; 2; 1], x2 = [0; 4; -1], sigma = 0.5 :\n",
      "\t0.324652\n",
      "(this value should be about 0.324652)\n"
     ]
    }
   ],
   "source": [
    "%% =============== Part 3: Implementing Gaussian Kernel ===============\n",
    "%  You will now implement the Gaussian kernel to use\n",
    "%  with the SVM. You should complete the code in gaussianKernel.m\n",
    "%\n",
    "function sim = gaussianKernel(x1, x2, sigma)\n",
    "    %RBFKERNEL returns a radial basis function kernel between x1 and x2\n",
    "    %   sim = gaussianKernel(x1, x2) returns a gaussian kernel between x1 and x2\n",
    "    %   and returns the value in sim\n",
    "\n",
    "    % Ensure that x1 and x2 are column vectors\n",
    "    x1 = x1(:); x2 = x2(:);\n",
    "\n",
    "    % You need to return the following variables correctly.\n",
    "    sim = 0;\n",
    "\n",
    "    % ====================== YOUR CODE HERE ======================\n",
    "    % Instructions: Fill in this function to return the similarity between x1\n",
    "    %               and x2 computed using a Gaussian kernel with bandwidth\n",
    "    %               sigma\n",
    "    %\n",
    "    %\n",
    "    \n",
    "    err = x1 - x2;\n",
    "    sim = exp(-(err' * err / (2 * sigma^2)));\n",
    "\n",
    "    % =============================================================\n",
    "\n",
    "end\n",
    "\n",
    "\n",
    "x1 = [1 2 1]; x2 = [0 4 -1]; sigma = 2;\n",
    "sim = gaussianKernel(x1, x2, sigma);\n",
    "\n",
    "fprintf(['Gaussian Kernel between x1 = [1; 2; 1], x2 = [0; 4; -1], sigma = 0.5 :' ...\n",
    "         '\\n\\t%f\\n(this value should be about 0.324652)\\n'], sim);"
   ]
  },
  {
   "cell_type": "code",
   "execution_count": null,
   "metadata": {
    "collapsed": true
   },
   "outputs": [],
   "source": [
    "%% =============== Part 4: Visualizing Dataset 2 ================\n",
    "%  The following code will load the next dataset into your environment and \n",
    "%  plot the data. \n",
    "%\n",
    "\n",
    "% Load from ex6data2: \n",
    "% You will have X, y in your environment\n",
    "load('ex6data2.mat');\n",
    "\n",
    "% Plot training data\n",
    "%plotData(X, y);"
   ]
  },
  {
   "cell_type": "code",
   "execution_count": null,
   "metadata": {
    "collapsed": true
   },
   "outputs": [],
   "source": [
    "%% ========== Part 5: Training SVM with RBF Kernel (Dataset 2) ==========\n",
    "%  After you have implemented the kernel, we can now use it to train the \n",
    "%  SVM classifier.\n",
    "% \n",
    "%fprintf('\\nTraining SVM with RBF Kernel (this may take 1 to 2 minutes) ...\\n');\n",
    "\n",
    "% Load from ex6data2: \n",
    "% You will have X, y in your environment\n",
    "%load('ex6data2.mat');\n",
    "\n",
    "% SVM Parameters\n",
    "C = 1; sigma = 0.1;\n",
    "\n",
    "% We set the tolerance and max_passes lower here so that the code will run\n",
    "% faster. However, in practice, you will want to run the training to\n",
    "% convergence.\n",
    "model= svmTrain(X, y, C, @(x1, x2) gaussianKernel(x1, x2, sigma)); \n",
    "%visualizeBoundary(X, y, model);"
   ]
  },
  {
   "cell_type": "code",
   "execution_count": null,
   "metadata": {
    "collapsed": true
   },
   "outputs": [],
   "source": [
    "%% =============== Part 6: Visualizing Dataset 3 ================\n",
    "%  The following code will load the next dataset into your environment and \n",
    "%  plot the data. \n",
    "%\n",
    "\n",
    "% Load from ex6data3: \n",
    "% You will have X, y in your environment\n",
    "load('ex6data3.mat');\n",
    "\n",
    "% Plot training data\n",
    "%plotData(X, y);"
   ]
  },
  {
   "cell_type": "code",
   "execution_count": null,
   "metadata": {
    "collapsed": true
   },
   "outputs": [],
   "source": [
    "%% ========== Part 7: Training SVM with RBF Kernel (Dataset 3) ==========\n",
    "\n",
    "%  This is a different dataset that you can use to experiment with. Try\n",
    "%  different values of C and sigma here.\n",
    "% \n",
    "\n",
    "% Load from ex6data3: \n",
    "% You will have X, y in your environment\n",
    "load('ex6data3.mat');\n",
    "\n",
    "% Try different SVM Parameters here\n",
    "[C, sigma] = dataset3Params(X, y, Xval, yval);\n",
    "\n",
    "% Train the SVM\n",
    "model= svmTrain(X, y, C, @(x1, x2) gaussianKernel(x1, x2, sigma));\n",
    "%visualizeBoundary(X, y, model);\n"
   ]
  }
 ],
 "metadata": {
  "kernelspec": {
   "display_name": "Octave",
   "language": "octave",
   "name": "octave"
  },
  "language_info": {
   "file_extension": ".m",
   "help_links": [
    {
     "text": "MetaKernel Magics",
     "url": "https://github.com/calysto/metakernel/blob/master/metakernel/magics/README.md"
    }
   ],
   "mimetype": "text/x-octave",
   "name": "octave",
   "version": "0.16.0"
  }
 },
 "nbformat": 4,
 "nbformat_minor": 0
}
