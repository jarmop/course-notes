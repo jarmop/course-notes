{
 "cells": [
  {
   "cell_type": "code",
   "execution_count": 80,
   "metadata": {
    "collapsed": false
   },
   "outputs": [],
   "source": [
    "import numpy as np\n",
    "from scipy import linalg\n",
    "import matplotlib.pyplot as plt\n",
    "import pandas as pd\n"
   ]
  },
  {
   "cell_type": "code",
   "execution_count": null,
   "metadata": {
    "collapsed": true
   },
   "outputs": [],
   "source": [
    "def computeCost():\n",
    "    "
   ]
  },
  {
   "cell_type": "code",
   "execution_count": 141,
   "metadata": {
    "collapsed": true
   },
   "outputs": [
    {
     "data": {
      "image/png": "[encoded data removed]",
      "text/plain": [
       "<matplotlib.figure.Figure at 0x1121eb780>"
      ]
     },
     "metadata": {},
     "output_type": "display_data"
    }
   ],
   "source": [
    "data = pd.read_csv('starter-code/ex1/ex1data1.txt', names=['size','price'])\n",
    "\n",
    "plt.plot(data['size'].values, data['price'].values, 'ro')\n",
    "#plt.plot([5,10,15],[0,5,10])\n",
    "plt.show()"
   ]
  },
  {
   "cell_type": "markdown",
   "metadata": {},
   "source": [
    "# Initialize variables"
   ]
  },
  {
   "cell_type": "code",
   "execution_count": 149,
   "metadata": {
    "collapsed": false
   },
   "outputs": [
    {
     "data": {
      "text/plain": [
       "97"
      ]
     },
     "execution_count": 149,
     "metadata": {},
     "output_type": "execute_result"
    }
   ],
   "source": [
    "# Number of training sets\n",
    "m = data['price'].size\n",
    "m"
   ]
  },
  {
   "cell_type": "code",
   "execution_count": 150,
   "metadata": {
    "collapsed": true
   },
   "outputs": [
    {
     "data": {
      "text/plain": [
       "array([[  1.    ,   6.1101],\n",
       "       [  1.    ,   5.5277],\n",
       "       [  1.    ,   8.5186],\n",
       "       [  1.    ,   7.0032],\n",
       "       [  1.    ,   5.8598],\n",
       "       [  1.    ,   8.3829],\n",
       "       [  1.    ,   7.4764],\n",
       "       [  1.    ,   8.5781],\n",
       "       [  1.    ,   6.4862],\n",
       "       [  1.    ,   5.0546],\n",
       "       [  1.    ,   5.7107],\n",
       "       [  1.    ,  14.164 ],\n",
       "       [  1.    ,   5.734 ],\n",
       "       [  1.    ,   8.4084],\n",
       "       [  1.    ,   5.6407],\n",
       "       [  1.    ,   5.3794],\n",
       "       [  1.    ,   6.3654],\n",
       "       [  1.    ,   5.1301],\n",
       "       [  1.    ,   6.4296],\n",
       "       [  1.    ,   7.0708],\n",
       "       [  1.    ,   6.1891],\n",
       "       [  1.    ,  20.27  ],\n",
       "       [  1.    ,   5.4901],\n",
       "       [  1.    ,   6.3261],\n",
       "       [  1.    ,   5.5649],\n",
       "       [  1.    ,  18.945 ],\n",
       "       [  1.    ,  12.828 ],\n",
       "       [  1.    ,  10.957 ],\n",
       "       [  1.    ,  13.176 ],\n",
       "       [  1.    ,  22.203 ],\n",
       "       [  1.    ,   5.2524],\n",
       "       [  1.    ,   6.5894],\n",
       "       [  1.    ,   9.2482],\n",
       "       [  1.    ,   5.8918],\n",
       "       [  1.    ,   8.2111],\n",
       "       [  1.    ,   7.9334],\n",
       "       [  1.    ,   8.0959],\n",
       "       [  1.    ,   5.6063],\n",
       "       [  1.    ,  12.836 ],\n",
       "       [  1.    ,   6.3534],\n",
       "       [  1.    ,   5.4069],\n",
       "       [  1.    ,   6.8825],\n",
       "       [  1.    ,  11.708 ],\n",
       "       [  1.    ,   5.7737],\n",
       "       [  1.    ,   7.8247],\n",
       "       [  1.    ,   7.0931],\n",
       "       [  1.    ,   5.0702],\n",
       "       [  1.    ,   5.8014],\n",
       "       [  1.    ,  11.7   ],\n",
       "       [  1.    ,   5.5416],\n",
       "       [  1.    ,   7.5402],\n",
       "       [  1.    ,   5.3077],\n",
       "       [  1.    ,   7.4239],\n",
       "       [  1.    ,   7.6031],\n",
       "       [  1.    ,   6.3328],\n",
       "       [  1.    ,   6.3589],\n",
       "       [  1.    ,   6.2742],\n",
       "       [  1.    ,   5.6397],\n",
       "       [  1.    ,   9.3102],\n",
       "       [  1.    ,   9.4536],\n",
       "       [  1.    ,   8.8254],\n",
       "       [  1.    ,   5.1793],\n",
       "       [  1.    ,  21.279 ],\n",
       "       [  1.    ,  14.908 ],\n",
       "       [  1.    ,  18.959 ],\n",
       "       [  1.    ,   7.2182],\n",
       "       [  1.    ,   8.2951],\n",
       "       [  1.    ,  10.236 ],\n",
       "       [  1.    ,   5.4994],\n",
       "       [  1.    ,  20.341 ],\n",
       "       [  1.    ,  10.136 ],\n",
       "       [  1.    ,   7.3345],\n",
       "       [  1.    ,   6.0062],\n",
       "       [  1.    ,   7.2259],\n",
       "       [  1.    ,   5.0269],\n",
       "       [  1.    ,   6.5479],\n",
       "       [  1.    ,   7.5386],\n",
       "       [  1.    ,   5.0365],\n",
       "       [  1.    ,  10.274 ],\n",
       "       [  1.    ,   5.1077],\n",
       "       [  1.    ,   5.7292],\n",
       "       [  1.    ,   5.1884],\n",
       "       [  1.    ,   6.3557],\n",
       "       [  1.    ,   9.7687],\n",
       "       [  1.    ,   6.5159],\n",
       "       [  1.    ,   8.5172],\n",
       "       [  1.    ,   9.1802],\n",
       "       [  1.    ,   6.002 ],\n",
       "       [  1.    ,   5.5204],\n",
       "       [  1.    ,   5.0594],\n",
       "       [  1.    ,   5.7077],\n",
       "       [  1.    ,   7.6366],\n",
       "       [  1.    ,   5.8707],\n",
       "       [  1.    ,   5.3054],\n",
       "       [  1.    ,   8.2934],\n",
       "       [  1.    ,  13.394 ],\n",
       "       [  1.    ,   5.4369]])"
      ]
     },
     "execution_count": 150,
     "metadata": {},
     "output_type": "execute_result"
    }
   ],
   "source": [
    "# Transform dataframe size column into numpy array\n",
    "X = data['size'].values\n",
    "# Transform 1D array into 2D: array([]) -> array([[.,.,.]])\n",
    "X = X[np.newaxis]\n",
    "# Transpose to form a column vector: array([[.,.,.]]) -> array([[.],[.],[.]])\n",
    "X = X.T\n",
    "# Add ones to first column\n",
    "X = np.append(np.ones((m,1)), X, axis = 1)\n",
    "X"
   ]
  },
  {
   "cell_type": "code",
   "execution_count": 144,
   "metadata": {
    "collapsed": true
   },
   "outputs": [
    {
     "data": {
      "text/plain": [
       "array([[ 17.592  ],\n",
       "       [  9.1302 ],\n",
       "       [ 13.662  ],\n",
       "       [ 11.854  ],\n",
       "       [  6.8233 ],\n",
       "       [ 11.886  ],\n",
       "       [  4.3483 ],\n",
       "       [ 12.     ],\n",
       "       [  6.5987 ],\n",
       "       [  3.8166 ],\n",
       "       [  3.2522 ],\n",
       "       [ 15.505  ],\n",
       "       [  3.1551 ],\n",
       "       [  7.2258 ],\n",
       "       [  0.71618],\n",
       "       [  3.5129 ],\n",
       "       [  5.3048 ],\n",
       "       [  0.56077],\n",
       "       [  3.6518 ],\n",
       "       [  5.3893 ],\n",
       "       [  3.1386 ],\n",
       "       [ 21.767  ],\n",
       "       [  4.263  ],\n",
       "       [  5.1875 ],\n",
       "       [  3.0825 ],\n",
       "       [ 22.638  ],\n",
       "       [ 13.501  ],\n",
       "       [  7.0467 ],\n",
       "       [ 14.692  ],\n",
       "       [ 24.147  ],\n",
       "       [ -1.22   ],\n",
       "       [  5.9966 ],\n",
       "       [ 12.134  ],\n",
       "       [  1.8495 ],\n",
       "       [  6.5426 ],\n",
       "       [  4.5623 ],\n",
       "       [  4.1164 ],\n",
       "       [  3.3928 ],\n",
       "       [ 10.117  ],\n",
       "       [  5.4974 ],\n",
       "       [  0.55657],\n",
       "       [  3.9115 ],\n",
       "       [  5.3854 ],\n",
       "       [  2.4406 ],\n",
       "       [  6.7318 ],\n",
       "       [  1.0463 ],\n",
       "       [  5.1337 ],\n",
       "       [  1.844  ],\n",
       "       [  8.0043 ],\n",
       "       [  1.0179 ],\n",
       "       [  6.7504 ],\n",
       "       [  1.8396 ],\n",
       "       [  4.2885 ],\n",
       "       [  4.9981 ],\n",
       "       [  1.4233 ],\n",
       "       [ -1.4211 ],\n",
       "       [  2.4756 ],\n",
       "       [  4.6042 ],\n",
       "       [  3.9624 ],\n",
       "       [  5.4141 ],\n",
       "       [  5.1694 ],\n",
       "       [ -0.74279],\n",
       "       [ 17.929  ],\n",
       "       [ 12.054  ],\n",
       "       [ 17.054  ],\n",
       "       [  4.8852 ],\n",
       "       [  5.7442 ],\n",
       "       [  7.7754 ],\n",
       "       [  1.0173 ],\n",
       "       [ 20.992  ],\n",
       "       [  6.6799 ],\n",
       "       [  4.0259 ],\n",
       "       [  1.2784 ],\n",
       "       [  3.3411 ],\n",
       "       [ -2.6807 ],\n",
       "       [  0.29678],\n",
       "       [  3.8845 ],\n",
       "       [  5.7014 ],\n",
       "       [  6.7526 ],\n",
       "       [  2.0576 ],\n",
       "       [  0.47953],\n",
       "       [  0.20421],\n",
       "       [  0.67861],\n",
       "       [  7.5435 ],\n",
       "       [  5.3436 ],\n",
       "       [  4.2415 ],\n",
       "       [  6.7981 ],\n",
       "       [  0.92695],\n",
       "       [  0.152  ],\n",
       "       [  2.8214 ],\n",
       "       [  1.8451 ],\n",
       "       [  4.2959 ],\n",
       "       [  7.2029 ],\n",
       "       [  1.9869 ],\n",
       "       [  0.14454],\n",
       "       [  9.0551 ],\n",
       "       [  0.61705]])"
      ]
     },
     "execution_count": 144,
     "metadata": {},
     "output_type": "execute_result"
    }
   ],
   "source": [
    "# Set prices to y variable in the same fashion as X\n",
    "y = data['price'].values[np.newaxis].T\n",
    "y"
   ]
  },
  {
   "cell_type": "code",
   "execution_count": 146,
   "metadata": {
    "collapsed": true
   },
   "outputs": [
    {
     "data": {
      "image/png": "[encoded data removed]",
      "text/plain": [
       "<matplotlib.figure.Figure at 0x1103ea1d0>"
      ]
     },
     "metadata": {},
     "output_type": "display_data"
    }
   ],
   "source": [
    "plt.plot(X, y, 'ro')\n",
    "plt.show()"
   ]
  },
  {
   "cell_type": "code",
   "execution_count": 151,
   "metadata": {
    "collapsed": true
   },
   "outputs": [
    {
     "data": {
      "text/plain": [
       "array([[ 0.],\n",
       "       [ 0.]])"
      ]
     },
     "execution_count": 151,
     "metadata": {},
     "output_type": "execute_result"
    }
   ],
   "source": [
    "# Fitting parameters\n",
    "theta = np.zeros((2,1))\n",
    "theta"
   ]
  },
  {
   "cell_type": "code",
   "execution_count": null,
   "metadata": {
    "collapsed": true
   },
   "outputs": [],
   "source": [
    "# Gradient descent settings\n",
    "iterations = 1500;\n",
    "alpha = 0.01;"
   ]
  }
 ],
 "metadata": {
  "kernelspec": {
   "display_name": "Python 3",
   "language": "python",
   "name": "python3"
  },
  "language_info": {
   "codemirror_mode": {
    "name": "ipython",
    "version": 3
   },
   "file_extension": ".py",
   "mimetype": "text/x-python",
   "name": "python",
   "nbconvert_exporter": "python",
   "pygments_lexer": "ipython3",
   "version": "3.5.2"
  }
 },
 "nbformat": 4,
 "nbformat_minor": 1
}
