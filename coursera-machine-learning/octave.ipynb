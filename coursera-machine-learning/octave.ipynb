{
 "cells": [
  {
   "cell_type": "code",
   "execution_count": 16,
   "metadata": {
    "collapsed": false
   },
   "outputs": [
    {
     "name": "stdout",
     "output_type": "stream",
     "text": [
      "ans =\n",
      "\n",
      "   0.058391\n",
      "   0.653288\n",
      "\n",
      "theta =\n",
      "\n",
      "   0\n",
      "   0\n",
      "\n"
     ]
    }
   ],
   "source": [
    "data = load('starter-code/ex1/ex1data1.txt');\n",
    "X = data(:, 1);\n",
    "y = data(:, 2);\n",
    "m = length(y);\n",
    "X = [ones(m, 1), data(:,1)];\n",
    "theta = zeros(2, 1);\n",
    "alpha = 0.01;\n",
    "\n",
    "#theta = theta - (alpha*X'*(X*theta-y)) / m;\n",
    "#theta\n",
    "\n",
    "theta - alpha*X'*(X*theta-y) / m\n",
    "\n",
    "theta"
   ]
  }
 ],
 "metadata": {
  "anaconda-cloud": {},
  "kernelspec": {
   "display_name": "Octave",
   "language": "octave",
   "name": "octave"
  },
  "language_info": {
   "file_extension": ".m",
   "help_links": [
    {
     "text": "MetaKernel Magics",
     "url": "https://github.com/calysto/metakernel/blob/master/metakernel/magics/README.md"
    }
   ],
   "mimetype": "text/x-octave",
   "name": "octave",
   "version": "0.16.0"
  }
 },
 "nbformat": 4,
 "nbformat_minor": 0
}
