{
 "cells": [
  {
   "cell_type": "code",
   "execution_count": 7,
   "metadata": {
    "collapsed": false
   },
   "outputs": [
    {
     "name": "stdout",
     "output_type": "stream",
     "text": [
      "Loading and Visualizing Data ...\n",
      "\n",
      "Loading Saved Neural Network Parameters ...\n"
     ]
    }
   ],
   "source": [
    "%% Machine Learning Online Class - Exercise 3 | Part 2: Neural Networks\n",
    "\n",
    "%  Instructions\n",
    "%  ------------\n",
    "% \n",
    "%  This file contains code that helps you get started on the\n",
    "%  linear exercise. You will need to complete the following functions \n",
    "%  in this exericse:\n",
    "%\n",
    "%     lrCostFunction.m (logistic regression cost function)\n",
    "%     oneVsAll.m\n",
    "%     predictOneVsAll.m\n",
    "%     predict.m\n",
    "%\n",
    "%  For this exercise, you will not need to change any code in this file,\n",
    "%  or any other files other than those mentioned above.\n",
    "%\n",
    "\n",
    "%% Initialization\n",
    "%clear ; close all; clc\n",
    "\n",
    "%% Setup the parameters you will use for this exercise\n",
    "input_layer_size  = 400;  % 20x20 Input Images of Digits\n",
    "hidden_layer_size = 25;   % 25 hidden units\n",
    "num_labels = 10;          % 10 labels, from 1 to 10   \n",
    "                          % (note that we have mapped \"0\" to label 10)\n",
    "\n",
    "%% =========== Part 1: Loading and Visualizing Data =============\n",
    "%  We start the exercise by first loading and visualizing the dataset. \n",
    "%  You will be working with a dataset that contains handwritten digits.\n",
    "%\n",
    "\n",
    "% Load Training Data\n",
    "fprintf('Loading Data ...\\n')\n",
    "\n",
    "load('exercises/ex3/ex3data1.mat');\n",
    "m = size(X, 1);\n",
    "\n",
    "% Randomly select 100 data points to display\n",
    "%sel = randperm(size(X, 1));\n",
    "%sel = sel(1:100);\n",
    "\n",
    "%displayData(X(sel, :));\n",
    "\n",
    "%% ================ Part 2: Loading Pameters ================\n",
    "% In this part of the exercise, we load some pre-initialized \n",
    "% neural network parameters.\n",
    "\n",
    "fprintf('\\nLoading Saved Neural Network Parameters ...\\n')\n",
    "\n",
    "% Load the weights into variables Theta1 and Theta2\n",
    "load('exercises/ex3/ex3weights.mat');"
   ]
  },
  {
   "cell_type": "code",
   "execution_count": 8,
   "metadata": {
    "collapsed": true
   },
   "outputs": [],
   "source": [
    "function g = sigmoid(z)\n",
    "    g = 1.0 ./ (1.0 + exp(-z));\n",
    "end"
   ]
  },
  {
   "cell_type": "code",
   "execution_count": 33,
   "metadata": {
    "collapsed": false
   },
   "outputs": [
    {
     "name": "stdout",
     "output_type": "stream",
     "text": [
      "\n",
      "Training Set Accuracy: 97.520000\n"
     ]
    }
   ],
   "source": [
    "%% ================= Part 3: Implement Predict =================\n",
    "%  After training the neural network, we would like to use it to predict\n",
    "%  the labels. You will now implement the \"predict\" function to use the\n",
    "%  neural network to predict the labels of the training set. This lets\n",
    "%  you compute the training set accuracy.\n",
    "\n",
    "function p = predict(Theta1, Theta2, X)\n",
    "    %PREDICT Predict the label of an input given a trained neural network\n",
    "    %   p = PREDICT(Theta1, Theta2, X) outputs the predicted label of X given the\n",
    "    %   trained weights of a neural network (Theta1, Theta2)\n",
    "\n",
    "    % Useful values\n",
    "    m = size(X, 1);\n",
    "    num_labels = size(Theta2, 1);\n",
    "\n",
    "    % You need to return the following variables correctly \n",
    "    p = zeros(size(X, 1), 1);\n",
    "\n",
    "    % ====================== YOUR CODE HERE ======================\n",
    "    % Instructions: Complete the following code to make predictions using\n",
    "    %               your learned neural network. You should set p to a \n",
    "    %               vector containing labels between 1 to num_labels.\n",
    "    %\n",
    "    % Hint: The max function might come in useful. In particular, the max\n",
    "    %       function can also return the index of the max element, for more\n",
    "    %       information see 'help max'. If your examples are in rows, then, you\n",
    "    %       can use max(A, [], 2) to obtain the max for each row.\n",
    "    %\n",
    "    \n",
    "    X = [ones(m, 1) X];\n",
    "    \n",
    "    a = sigmoid(Theta1 * X');\n",
    "    a = [ones(1, size(a,2)); a];\n",
    "    \n",
    "    p = sigmoid(Theta2 * a);\n",
    "    \n",
    "    [value index] = max(p);\n",
    "    \n",
    "    p = index';\n",
    "\n",
    "    % =========================================================================\n",
    "\n",
    "end\n",
    "\n",
    "pred = predict(Theta1, Theta2, X);\n",
    "\n",
    "fprintf('\\nTraining Set Accuracy: %f\\n', mean(double(pred == y)) * 100);\n",
    "\n",
    "%Theta1_test = reshape(sin(0 : 0.5 : 5.9), 4, 3);\n",
    "%Theta2_test = reshape(sin(0 : 0.3 : 5.9), 4, 5);\n",
    "%X_test = reshape(sin(1:16), 8, 2);\n",
    "%p = predict(Theta1_test, Theta2_test, X_test)"
   ]
  },
  {
   "cell_type": "code",
   "execution_count": 3,
   "metadata": {
    "collapsed": true
   },
   "outputs": [],
   "source": [
    "%Theta1 = reshape(sin(0 : 0.5 : 5.9), 4, 3);\n",
    "%Theta2 = reshape(sin(0 : 0.3 : 5.9), 4, 5);\n",
    "%X = reshape(sin(1:16), 8, 2);\n",
    "%p = predict(Theta1, Theta2, X)\n",
    "% you should see this result\n",
    "%p = \n",
    "%  4\n",
    "%  1\n",
    "%  1\n",
    "%  4\n",
    "%  4\n",
    "%  4\n",
    "%  4\n",
    "%  2"
   ]
  },
  {
   "cell_type": "code",
   "execution_count": 4,
   "metadata": {
    "collapsed": true
   },
   "outputs": [],
   "source": [
    "%  To give you an idea of the network's output, you can also run\n",
    "%  through the examples one at the a time to see what it is predicting.\n",
    "\n",
    "%  Randomly permute examples\n",
    "%rp = randperm(m);\n",
    "\n",
    "%for i = 1:m\n",
    "%    % Display \n",
    "%    fprintf('\\nDisplaying Example Image\\n');\n",
    "%    displayData(X(rp(i), :));\n",
    "%\n",
    "%    pred = predict(Theta1, Theta2, X(rp(i),:));\n",
    "%    fprintf('\\nNeural Network Prediction: %d (digit %d)\\n', pred, mod(pred, 10));\n",
    "%    \n",
    "%    % Pause\n",
    "%    fprintf('Program paused. Press enter to continue.\\n');\n",
    "%    pause;\n",
    "%end"
   ]
  }
 ],
 "metadata": {
  "kernelspec": {
   "display_name": "Octave",
   "language": "octave",
   "name": "octave"
  },
  "language_info": {
   "file_extension": ".m",
   "help_links": [
    {
     "text": "MetaKernel Magics",
     "url": "https://github.com/calysto/metakernel/blob/master/metakernel/magics/README.md"
    }
   ],
   "mimetype": "text/x-octave",
   "name": "octave",
   "version": "0.16.0"
  }
 },
 "nbformat": 4,
 "nbformat_minor": 0
}
