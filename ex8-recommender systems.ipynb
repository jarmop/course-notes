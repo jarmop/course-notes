{
 "cells": [
  {
   "cell_type": "code",
   "execution_count": 1,
   "metadata": {
    "collapsed": false
   },
   "outputs": [
    {
     "name": "stdout",
     "output_type": "stream",
     "text": [
      "warning: load: '/Users/jarmo/development/projects/stanford-machine-learning-course/exercises/ex8/ex8_movies.mat' found by searching load path\n",
      "Average rating for movie 1 (Toy Story): 3.878319 / 5\n",
      "\n"
     ]
    }
   ],
   "source": [
    "%% Machine Learning Online Class\n",
    "%  Exercise 8 | Anomaly Detection and Collaborative Filtering\n",
    "%\n",
    "%  Instructions\n",
    "%  ------------\n",
    "%\n",
    "%  This file contains code that helps you get started on the\n",
    "%  exercise. You will need to complete the following functions:\n",
    "%\n",
    "%     estimateGaussian.m\n",
    "%     selectThreshold.m\n",
    "%     cofiCostFunc.m\n",
    "%\n",
    "%  For this exercise, you will not need to change any code in this file,\n",
    "%  or any other files other than those mentioned above.\n",
    "%\n",
    "\n",
    "%% =============== Part 1: Loading movie ratings dataset ================\n",
    "%  You will start by loading the movie ratings dataset to understand the\n",
    "%  structure of the data.\n",
    "%  \n",
    "%fprintf('Loading movie ratings dataset.\\n\\n');\n",
    "\n",
    "%  Load data\n",
    "addpath('exercises/ex8');\n",
    "load ('ex8_movies.mat');\n",
    "\n",
    "%  Y is a 1682x943 matrix, containing ratings (1-5) of 1682 movies on \n",
    "%  943 users\n",
    "%\n",
    "%  R is a 1682x943 matrix, where R(i,j) = 1 if and only if user j gave a\n",
    "%  rating to movie i\n",
    "\n",
    "%  From the matrix, we can compute statistics like average rating.\n",
    "fprintf('Average rating for movie 1 (Toy Story): %f / 5\\n\\n', mean(Y(1, R(1, :))));\n",
    "\n",
    "%  We can \"visualize\" the ratings matrix by plotting it with imagesc\n",
    "%imagesc(Y);\n",
    "%ylabel('Movies');\n",
    "%xlabel('Users');"
   ]
  },
  {
   "cell_type": "code",
   "execution_count": 2,
   "metadata": {
    "collapsed": false
   },
   "outputs": [
    {
     "name": "stdout",
     "output_type": "stream",
     "text": [
      "warning: load: '/Users/jarmo/development/projects/stanford-machine-learning-course/exercises/ex8/ex8_movieParams.mat' found by searching load path\r\n"
     ]
    }
   ],
   "source": [
    "%% ============ Part 2: Collaborative Filtering Cost Function ===========\n",
    "%  You will now implement the cost function for collaborative filtering.\n",
    "%  To help you debug your cost function, we have included set of weights\n",
    "%  that we trained on that. Specifically, you should complete the code in \n",
    "%  cofiCostFunc.m to return J.\n",
    "\n",
    "%  Load pre-trained weights (X, Theta, num_users, num_movies, num_features)\n",
    "load ('ex8_movieParams.mat');\n",
    "\n",
    "%  Reduce the data set size so that this runs faster\n",
    "num_users = 4; num_movies = 5; num_features = 3;\n",
    "X = X(1:num_movies, 1:num_features);\n",
    "Theta = Theta(1:num_users, 1:num_features);\n",
    "Y = Y(1:num_movies, 1:num_users);\n",
    "R = R(1:num_movies, 1:num_users);"
   ]
  },
  {
   "cell_type": "code",
   "execution_count": 38,
   "metadata": {
    "collapsed": false
   },
   "outputs": [
    {
     "name": "stdout",
     "output_type": "stream",
     "text": [
      "Cost at loaded parameters: 22.224604 \n",
      "(this value should be about 22.22)\n"
     ]
    }
   ],
   "source": [
    "function [J, grad] = cofiCostFunc(params, Y, R, num_users, num_movies, num_features, lambda)\n",
    "    %COFICOSTFUNC Collaborative filtering cost function\n",
    "    %   [J, grad] = COFICOSTFUNC(params, Y, R, num_users, num_movies, ...\n",
    "    %   num_features, lambda) returns the cost and gradient for the\n",
    "    %   collaborative filtering problem.\n",
    "    %\n",
    "\n",
    "    % Unfold the U and W matrices from params\n",
    "    X = reshape(params(1:num_movies*num_features), num_movies, num_features);\n",
    "    Theta = reshape(params(num_movies*num_features+1:end), num_users, num_features);\n",
    "\n",
    "    % You need to return the following values correctly\n",
    "    J = 0;\n",
    "    X_grad = zeros(size(X));\n",
    "    Theta_grad = zeros(size(Theta));\n",
    "\n",
    "    % ====================== YOUR CODE HERE ======================\n",
    "    % Instructions: Compute the cost function and gradient for collaborative\n",
    "    %               filtering. Concretely, you should first implement the cost\n",
    "    %               function (without regularization) and make sure it is\n",
    "    %               matches our costs. After that, you should implement the \n",
    "    %               gradient and use the checkCostFunction routine to check\n",
    "    %               that the gradient is correct. Finally, you should implement\n",
    "    %               regularization.\n",
    "    %\n",
    "    % Notes: X - num_movies  x num_features matrix of movie features\n",
    "    %        Theta - num_users  x num_features matrix of user features\n",
    "    %        Y - num_movies x num_users matrix of user ratings of movies\n",
    "    %        R - num_movies x num_users matrix, where R(i, j) = 1 if the \n",
    "    %            i-th movie was rated by the j-th user\n",
    "    %\n",
    "    % You should set the following variables correctly:\n",
    "    %\n",
    "    %        X_grad - num_movies x num_features matrix, containing the \n",
    "    %                 partial derivatives w.r.t. to each element of X\n",
    "    %        Theta_grad - num_users x num_features matrix, containing the \n",
    "    %                     partial derivatives w.r.t. to :each element of Theta\n",
    "    %\n",
    "    \n",
    "    J = sum(sum(((X * Theta' - Y) .* R) .^ 2)) / 2;\n",
    "    X_grad = ((X * Theta' - Y) .* R) * Theta;\n",
    "    Theta_grad = ((X * Theta' - Y) .* R)' * X;\n",
    "\n",
    "    % =============================================================\n",
    "\n",
    "    grad = [X_grad(:); Theta_grad(:)];\n",
    "\n",
    "end\n",
    "\n",
    "%  Evaluate cost function\n",
    "J = cofiCostFunc([X(:) ; Theta(:)], Y, R, num_users, num_movies, num_features, 0);\n",
    "           \n",
    "fprintf(['Cost at loaded parameters: %f \\n(this value should be about 22.22)\\n'], J);"
   ]
  },
  {
   "cell_type": "code",
   "execution_count": null,
   "metadata": {
    "collapsed": true
   },
   "outputs": [],
   "source": [
    "%% ============== Part 3: Collaborative Filtering Gradient ==============\n",
    "%  Once your cost function matches up with ours, you should now implement \n",
    "%  the collaborative filtering gradient function. Specifically, you should \n",
    "%  complete the code in cofiCostFunc.m to return the grad argument.\n",
    "%  \n",
    "%fprintf('\\nChecking Gradients (without regularization) ... \\n');\n",
    "\n",
    "%  Check gradients by running checkNNGradients\n",
    "checkCostFunction;"
   ]
  },
  {
   "cell_type": "code",
   "execution_count": null,
   "metadata": {
    "collapsed": true
   },
   "outputs": [],
   "source": [
    "%% ========= Part 4: Collaborative Filtering Cost Regularization ========\n",
    "%  Now, you should implement regularization for the cost function for \n",
    "%  collaborative filtering. You can implement it by adding the cost of\n",
    "%  regularization to the original cost computation.\n",
    "%  \n",
    "\n",
    "%  Evaluate cost function\n",
    "J = cofiCostFunc([X(:) ; Theta(:)], Y, R, num_users, num_movies, num_features, 1.5);\n",
    "           \n",
    "fprintf(['Cost at loaded parameters (lambda = 1.5): %f \\n(this value should be about 31.34)\\n'], J);"
   ]
  },
  {
   "cell_type": "code",
   "execution_count": null,
   "metadata": {
    "collapsed": true
   },
   "outputs": [],
   "source": [
    "%% ======= Part 5: Collaborative Filtering Gradient Regularization ======\n",
    "%  Once your cost matches up with ours, you should proceed to implement \n",
    "%  regularization for the gradient. \n",
    "%\n",
    "\n",
    "%  \n",
    "%fprintf('\\nChecking Gradients (with regularization) ... \\n');\n",
    "\n",
    "%  Check gradients by running checkNNGradients\n",
    "checkCostFunction(1.5);"
   ]
  },
  {
   "cell_type": "code",
   "execution_count": null,
   "metadata": {
    "collapsed": true
   },
   "outputs": [],
   "source": [
    "%% ============== Part 6: Entering ratings for a new user ===============\n",
    "%  Before we will train the collaborative filtering model, we will first\n",
    "%  add ratings that correspond to a new user that we just observed. This\n",
    "%  part of the code will also allow you to put in your own ratings for the\n",
    "%  movies in our dataset!\n",
    "%\n",
    "movieList = loadMovieList();\n",
    "\n",
    "%  Initialize my ratings\n",
    "my_ratings = zeros(1682, 1);\n",
    "\n",
    "% Check the file movie_idx.txt for id of each movie in our dataset\n",
    "% For example, Toy Story (1995) has ID 1, so to rate it \"4\", you can set\n",
    "my_ratings(1) = 4;\n",
    "\n",
    "% Or suppose did not enjoy Silence of the Lambs (1991), you can set\n",
    "my_ratings(98) = 2;\n",
    "\n",
    "% We have selected a few movies we liked / did not like and the ratings we\n",
    "% gave are as follows:\n",
    "my_ratings(7) = 3;\n",
    "my_ratings(12)= 5;\n",
    "my_ratings(54) = 4;\n",
    "my_ratings(64)= 5;\n",
    "my_ratings(66)= 3;\n",
    "my_ratings(69) = 5;\n",
    "my_ratings(183) = 4;\n",
    "my_ratings(226) = 5;\n",
    "my_ratings(355)= 5;\n",
    "\n",
    "fprintf('\\n\\nNew user ratings:\\n');\n",
    "for i = 1:length(my_ratings)\n",
    "    if my_ratings(i) > 0 \n",
    "        fprintf('Rated %d for %s\\n', my_ratings(i), ...\n",
    "                 movieList{i});\n",
    "    end\n",
    "end"
   ]
  },
  {
   "cell_type": "code",
   "execution_count": null,
   "metadata": {
    "collapsed": true
   },
   "outputs": [],
   "source": [
    "%% ================== Part 7: Learning Movie Ratings ====================\n",
    "%  Now, you will train the collaborative filtering model on a movie rating \n",
    "%  dataset of 1682 movies and 943 users\n",
    "%\n",
    "\n",
    "fprintf('\\nTraining collaborative filtering...\\n');\n",
    "\n",
    "%  Load data\n",
    "load('ex8_movies.mat');\n",
    "\n",
    "%  Y is a 1682x943 matrix, containing ratings (1-5) of 1682 movies by \n",
    "%  943 users\n",
    "%\n",
    "%  R is a 1682x943 matrix, where R(i,j) = 1 if and only if user j gave a\n",
    "%  rating to movie i\n",
    "\n",
    "%  Add our own ratings to the data matrix\n",
    "Y = [my_ratings Y];\n",
    "R = [(my_ratings ~= 0) R];\n",
    "\n",
    "%  Normalize Ratings\n",
    "[Ynorm, Ymean] = normalizeRatings(Y, R);\n",
    "\n",
    "%  Useful Values\n",
    "num_users = size(Y, 2);\n",
    "num_movies = size(Y, 1);\n",
    "num_features = 10;\n",
    "\n",
    "% Set Initial Parameters (Theta, X)\n",
    "X = randn(num_movies, num_features);\n",
    "Theta = randn(num_users, num_features);\n",
    "\n",
    "initial_parameters = [X(:); Theta(:)];\n",
    "\n",
    "% Set options for fmincg\n",
    "options = optimset('GradObj', 'on', 'MaxIter', 100);\n",
    "\n",
    "% Set Regularization\n",
    "lambda = 10;\n",
    "theta = fmincg (@(t)(cofiCostFunc(t, Ynorm, R, num_users, num_movies, num_features, lambda)), initial_parameters, options);\n",
    "\n",
    "% Unfold the returned theta back into U and W\n",
    "X = reshape(theta(1:num_movies*num_features), num_movies, num_features);\n",
    "Theta = reshape(theta(num_movies*num_features+1:end), num_users, num_features);"
   ]
  },
  {
   "cell_type": "code",
   "execution_count": null,
   "metadata": {
    "collapsed": true
   },
   "outputs": [],
   "source": [
    "\n",
    "\n",
    "%% ================== Part 8: Recommendation for you ====================\n",
    "%  After training the model, you can now make recommendations by computing\n",
    "%  the predictions matrix.\n",
    "%\n",
    "\n",
    "p = X * Theta';\n",
    "my_predictions = p(:,1) + Ymean;\n",
    "\n",
    "movieList = loadMovieList();\n",
    "\n",
    "[r, ix] = sort(my_predictions, 'descend');\n",
    "fprintf('\\nTop recommendations for you:\\n');\n",
    "for i=1:10\n",
    "    j = ix(i);\n",
    "    fprintf('Predicting rating %.1f for movie %s\\n', my_predictions(j), ...\n",
    "            movieList{j});\n",
    "end\n",
    "\n",
    "fprintf('\\n\\nOriginal ratings provided:\\n');\n",
    "for i = 1:length(my_ratings)\n",
    "    if my_ratings(i) > 0 \n",
    "        fprintf('Rated %d for %s\\n', my_ratings(i), ...\n",
    "                 movieList{i});\n",
    "    end\n",
    "end\n"
   ]
  }
 ],
 "metadata": {
  "kernelspec": {
   "display_name": "Octave",
   "language": "octave",
   "name": "octave"
  },
  "language_info": {
   "file_extension": ".m",
   "help_links": [
    {
     "text": "MetaKernel Magics",
     "url": "https://github.com/calysto/metakernel/blob/master/metakernel/magics/README.md"
    }
   ],
   "mimetype": "text/x-octave",
   "name": "octave",
   "version": "0.16.0"
  }
 },
 "nbformat": 4,
 "nbformat_minor": 0
}
