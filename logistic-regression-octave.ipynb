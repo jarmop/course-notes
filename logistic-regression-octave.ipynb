{
 "cells": [
  {
   "cell_type": "code",
   "execution_count": 45,
   "metadata": {
    "collapsed": false
   },
   "outputs": [
    {
     "name": "stdout",
     "output_type": "stream",
     "text": [
      "\u001b[H\u001b[2J\n"
     ]
    }
   ],
   "source": [
    "%% Machine Learning Online Class - Exercise 2: Logistic Regression\n",
    "%\n",
    "%  Instructions\n",
    "%  ------------\n",
    "% \n",
    "%  This file contains code that helps you get started on the logistic\n",
    "%  regression exercise. You will need to complete the following functions \n",
    "%  in this exericse:\n",
    "%\n",
    "%     sigmoid.m\n",
    "%     costFunction.m\n",
    "%     predict.m\n",
    "%     costFunctionReg.m\n",
    "%\n",
    "%  For this exercise, you will not need to change any code in this file,\n",
    "%  or any other files other than those mentioned above.\n",
    "%\n",
    "\n",
    "%% Initialization\n",
    "clear ; close all; clc\n",
    "\n",
    "%% Load Data\n",
    "%  The first two columns contains the exam scores and the third column\n",
    "%  contains the label.\n",
    "\n",
    "data = load('exercises/ex2/ex2data1.txt');\n",
    "X = data(:, [1, 2]); y = data(:, 3);"
   ]
  },
  {
   "cell_type": "markdown",
   "metadata": {},
   "source": [
    "# Part 1: Plotting\n",
    "We'll skip plotting because I can't get it working on my environment."
   ]
  },
  {
   "cell_type": "code",
   "execution_count": null,
   "metadata": {
    "collapsed": true
   },
   "outputs": [],
   "source": [
    "%  We start the exercise by first plotting the data to understand the \n",
    "%  the problem we are working with.\n",
    "\n",
    "%fprintf(['Plotting data with + indicating (y = 1) examples and o ' ...\n",
    "%         'indicating (y = 0) examples.\\n']);\n",
    "\n",
    "%plotData(X, y);\n",
    "\n",
    "% Put some labels \n",
    "%hold on;\n",
    "% Labels and Legend\n",
    "%xlabel('Exam 1 score')\n",
    "%ylabel('Exam 2 score')\n",
    "\n",
    "% Specified in plot order\n",
    "%legend('Admitted', 'Not admitted')\n",
    "%hold off;\n",
    "\n",
    "%fprintf('\\nProgram paused. Press enter to continue.\\n');\n",
    "%pause;"
   ]
  },
  {
   "cell_type": "markdown",
   "metadata": {},
   "source": [
    "# Sigmoid function"
   ]
  },
  {
   "cell_type": "code",
   "execution_count": 38,
   "metadata": {
    "collapsed": false
   },
   "outputs": [
    {
     "name": "stdout",
     "output_type": "stream",
     "text": [
      "ans =  0.0066929\r\n"
     ]
    }
   ],
   "source": [
    "function g = sigmoid(z)\n",
    "%SIGMOID Compute sigmoid functoon\n",
    "%   J = SIGMOID(z) computes the sigmoid of z.\n",
    "\n",
    "% You need to return the following variables correctly\n",
    "\n",
    "g = zeros(size(z));\n",
    "\n",
    "% ====================== YOUR CODE HERE ======================\n",
    "% Instructions: Compute the sigmoid of each value of z (z can be a matrix,\n",
    "%               vector or scalar).\n",
    "\n",
    "\n",
    "for i = 1:rows(z)\n",
    "    for j = 1:columns(z)\n",
    "        g(i,j) = 1 / (1 + e^-z(i,j));\n",
    "    end\n",
    "end    \n",
    "\n",
    "#z(1,1)\n",
    "\n",
    "\n",
    "% =============================================================\n",
    "\n",
    "end\n",
    "\n",
    "Xtest = [1, 2; 3, 4];\n",
    "sigmoid(-5)"
   ]
  },
  {
   "cell_type": "markdown",
   "metadata": {},
   "source": [
    "# Part 2: Compute Cost and Gradient"
   ]
  },
  {
   "cell_type": "code",
   "execution_count": 50,
   "metadata": {
    "collapsed": true
   },
   "outputs": [],
   "source": [
    "%  Setup the data matrix appropriately, and add ones for the intercept term\n",
    "[m, n] = size(X);\n",
    "\n",
    "% Add intercept term to x and X_test\n",
    "X = [ones(m, 1) X];\n",
    "\n",
    "% Initialize fitting parameters\n",
    "initial_theta = zeros(n + 1, 1);"
   ]
  },
  {
   "cell_type": "markdown",
   "metadata": {},
   "source": [
    "## Cost function"
   ]
  },
  {
   "cell_type": "code",
   "execution_count": 91,
   "metadata": {
    "collapsed": false
   },
   "outputs": [
    {
     "name": "stdout",
     "output_type": "stream",
     "text": [
      "Cost at initial theta (zeros): 0.693147\n",
      "Gradient at initial theta (zeros): \n",
      " -0.100000 \n",
      " -12.009217 \n",
      " -11.262842 \n"
     ]
    }
   ],
   "source": [
    "function [J, grad] = costFunction(theta, X, y)\n",
    "%COSTFUNCTION Compute cost and gradient for logistic regression\n",
    "%   J = COSTFUNCTION(theta, X, y) computes the cost of using theta as the\n",
    "%   parameter for logistic regression and the gradient of the cost\n",
    "%   w.r.t. to the parameters.\n",
    "\n",
    "% Initialize some useful values\n",
    "m = length(y); % number of training examples\n",
    "\n",
    "% You need to return the following variables correctly\n",
    "J = 0;\n",
    "grad = zeros(size(theta));\n",
    "\n",
    "% ====================== YOUR CODE HERE ======================\n",
    "% Instructions: Compute the cost of a particular choice of theta.\n",
    "%               You should set J to the cost.\n",
    "%               Compute the partial derivatives and set grad to the partial\n",
    "%               derivatives of the cost w.r.t. each parameter in theta\n",
    "%\n",
    "% Note: grad should have the same dimensions as theta\n",
    "%\n",
    "\n",
    "h = sigmoid(X*theta);\n",
    "J = ( -y'*log(h) - (1-y)'*log(1-h) ) / m;\n",
    "\n",
    "grad = X'*(h - y) / m;\n",
    "\n",
    "% =============================================================\n",
    "\n",
    "end\n",
    "\n",
    "% Compute and display initial cost and gradient\n",
    "[cost, grad] = costFunction(initial_theta, X, y);\n",
    "\n",
    "fprintf('Cost at initial theta (zeros): %f\\n', cost);\n",
    "fprintf('Gradient at initial theta (zeros): \\n');\n",
    "fprintf(' %f \\n', grad);"
   ]
  },
  {
   "cell_type": "markdown",
   "metadata": {},
   "source": [
    "# Part 3: Optimizing using fminunc"
   ]
  },
  {
   "cell_type": "code",
   "execution_count": null,
   "metadata": {
    "collapsed": true
   },
   "outputs": [],
   "source": [
    "%% =============   =============\n",
    "%  In this exercise, you will use a built-in function (fminunc) to find the\n",
    "%  optimal parameters theta.\n",
    "\n",
    "%  Set options for fminunc\n",
    "options = optimset('GradObj', 'on', 'MaxIter', 400);\n",
    "\n",
    "%  Run fminunc to obtain the optimal theta\n",
    "%  This function will return theta and the cost \n",
    "[theta, cost] = ...\n",
    "\tfminunc(@(t)(costFunction(t, X, y)), initial_theta, options);\n",
    "\n",
    "% Print theta to screen\n",
    "fprintf('Cost at theta found by fminunc: %f\\n', cost);\n",
    "fprintf('theta: \\n');\n",
    "fprintf(' %f \\n', theta);\n",
    "\n",
    "% Plot Boundary\n",
    "%plotDecisionBoundary(theta, X, y);\n",
    "\n",
    "% Put some labels \n",
    "%hold on;\n",
    "% Labels and Legend\n",
    "%xlabel('Exam 1 score')\n",
    "%ylabel('Exam 2 score')\n",
    "\n",
    "% Specified in plot order\n",
    "legend('Admitted', 'Not admitted')\n",
    "%hold off;\n",
    "\n",
    "fprintf('\\nProgram paused. Press enter to continue.\\n');\n",
    "pause;"
   ]
  },
  {
   "cell_type": "markdown",
   "metadata": {},
   "source": [
    "# Part 4: Predict and Accuracies"
   ]
  },
  {
   "cell_type": "code",
   "execution_count": null,
   "metadata": {
    "collapsed": false
   },
   "outputs": [
    {
     "name": "stdout",
     "output_type": "stream",
     "text": [
      "error: 'X' undefined near line 2 column 13\n",
      "error: evaluating argument list element number 1\n",
      "error: 'm' undefined near line 2 column 11\n",
      "error: evaluating argument list element number 1\n",
      "error: 'n' undefined near line 2 column 23\n",
      "error: evaluating argument list element number 1\n",
      "error: 'initial_theta' undefined near line 2 column 27\n",
      "error: evaluating argument list element number 1\n",
      "error: 'cost' undefined near line 1 column 48\n",
      "error: evaluating argument list element number 2\n",
      "Gradient at initial theta (zeros): \n",
      "error: 'grad' undefined near line 1 column 19\n",
      "error: evaluating argument list element number 2\n",
      "\n",
      "Program paused. Press enter to continue.\n"
     ]
    }
   ],
   "source": [
    "%  After learning the parameters, you'll like to use it to predict the outcomes\n",
    "%  on unseen data. In this part, you will use the logistic regression model\n",
    "%  to predict the probability that a student with score 45 on exam 1 and \n",
    "%  score 85 on exam 2 will be admitted.\n",
    "%\n",
    "%  Furthermore, you will compute the training and test set accuracies of \n",
    "%  our model.\n",
    "%\n",
    "%  Your task is to complete the code in predict.m\n",
    "\n",
    "%  Predict probability for a student with score 45 on exam 1 \n",
    "%  and score 85 on exam 2 \n",
    "\n",
    "prob = sigmoid([1 45 85] * theta);\n",
    "fprintf(['For a student with scores 45 and 85, we predict an admission ' ...\n",
    "         'probability of %f\\n\\n'], prob);\n",
    "\n",
    "% Compute accuracy on our training set\n",
    "p = predict(theta, X);\n",
    "\n",
    "fprintf('Train Accuracy: %f\\n', mean(double(p == y)) * 100);\n",
    "\n",
    "fprintf('\\nProgram paused. Press enter to continue.\\n');\n",
    "pause;\n",
    "\n"
   ]
  }
 ],
 "metadata": {
  "kernelspec": {
   "display_name": "Octave",
   "language": "octave",
   "name": "octave"
  },
  "language_info": {
   "file_extension": ".m",
   "help_links": [
    {
     "text": "MetaKernel Magics",
     "url": "https://github.com/calysto/metakernel/blob/master/metakernel/magics/README.md"
    }
   ],
   "mimetype": "text/x-octave",
   "name": "octave",
   "version": "0.16.0"
  }
 },
 "nbformat": 4,
 "nbformat_minor": 1
}
