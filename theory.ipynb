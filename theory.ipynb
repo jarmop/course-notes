{
 "cells": [
  {
   "cell_type": "markdown",
   "metadata": {},
   "source": [
    "# Machine learning to deep learning\n",
    "- Softmax function\n",
    "    - Transforms vector values to range between 0 and 1 with sum = 1\n",
    "- One-hot encoding\n",
    "    - Classification training set labels are represented as a vector where correct class is 1 and others are 0\n",
    "    - In-efficient when number of classes is very large (very large vectors with mostly zero as value)\n",
    "        - Can be dealt with using embeddings\n",
    "- Cross-entropy\n",
    "    - $D(S,L) = -\\sum_{i} L_i log(S_i)$\n",
    "    - Transforms softmax results to one-hot encoding [0.7, 0.2, 0.1] => [1, 0, 0]\n",
    "    - S = distributions (predictions) (softmax)\n",
    "    - L = labels\n",
    "    - Not symmetric (D(S,L) != D(L,S))\n",
    "- Multinomial logistic classification\n",
    "    - Linear model -> logit -> softmax -> cross-entropy (one-hot encoding)\n",
    "- Loss (cost)\n",
    "    - Average cross-entropy\n",
    "- Normalized inputs & Initial weights\n",
    "    - Normalized inputs: Keep variables in reasonable sizes (not too big or small)\n",
    "        - Zero mean\n",
    "            - $\\dfrac{x-avg}{avg}$\n",
    "        - Equal variance\n",
    "    - weight initialization\n",
    "        - initialize weights in a good starting point\n",
    "            - gaussian distribution\n",
    "                - start with small sigma (uncertain algorithm) (sharp curve)\n",
    "- Optimization algorithm computes of the derivatives of weights and biases repetitively\n",
    "       \n",
    "\n"
   ]
  },
  {
   "cell_type": "markdown",
   "metadata": {},
   "source": []
  }
 ],
 "metadata": {
  "kernelspec": {
   "display_name": "Python [Root]",
   "language": "python",
   "name": "Python [Root]"
  },
  "language_info": {
   "codemirror_mode": {
    "name": "ipython",
    "version": 3
   },
   "file_extension": ".py",
   "mimetype": "text/x-python",
   "name": "python",
   "nbconvert_exporter": "python",
   "pygments_lexer": "ipython3",
   "version": "3.5.2"
  }
 },
 "nbformat": 4,
 "nbformat_minor": 0
}
