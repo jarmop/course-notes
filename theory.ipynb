{
 "cells": [
  {
   "cell_type": "markdown",
   "metadata": {},
   "source": [
    "# Machine learning\n",
    "Formal definition by Tom M. Mitchell:\n",
    "> A computer program is said to learn from experience E with respect to some class of tasks T and performance measure P, if its performance at tasks in T, as measured by P, improves with experience E.\n",
    "\n",
    "Machine is not initially (or ever) perfect at performing the given task so the function that the machine comes up with for performing the task is called a **hypothesis function**. Another function is used to train the machine, to improve the hypothesis function. As the machine is training, the performance of each prediction attempt can be measured with a **cost function**.\n",
    "\n",
    "One simple machine learning model is called Linear regression.\n",
    "\n",
    "# Linear regression\n",
    "\n",
    "General form of the hyphothesis function in Linear regression:\n",
    "\n",
    "$$\\hat{y}=h_\\theta(x)=\\theta_0+\\theta_1x$$\n",
    "\n",
    "Values of $\\theta_0$ and $\\theta_1$ are modified as the machine learns.\n",
    "\n",
    "Cost function:\n",
    "\n",
    "$$J(\\theta_0,\\theta_1)=\\frac{1}{2m}\\sum_{i=1}^m(\\hat{y}_i-y_i)^2 = \\frac{1}{2m}\\sum_{i=1}^m(h_\\theta(x_i)-y_i)^2$$"
   ]
  }
 ],
 "metadata": {
  "kernelspec": {
   "display_name": "Python 3",
   "language": "python",
   "name": "python3"
  },
  "language_info": {
   "codemirror_mode": {
    "name": "ipython",
    "version": 3
   },
   "file_extension": ".py",
   "mimetype": "text/x-python",
   "name": "python",
   "nbconvert_exporter": "python",
   "pygments_lexer": "ipython3",
   "version": "3.5.2"
  }
 },
 "nbformat": 4,
 "nbformat_minor": 1
}
