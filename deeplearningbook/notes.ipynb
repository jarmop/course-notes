{
 "cells": [
  {
   "cell_type": "markdown",
   "metadata": {},
   "source": [
    "# Deep Learning Book\n",
    "http://www.deeplearningbook.org/"
   ]
  },
  {
   "cell_type": "markdown",
   "metadata": {},
   "source": [
    "## Linear algebra\n",
    "- Scalar is a single number ($x \\in \\mathbb{R}$)\n",
    "- Vector is an array of numbers ($\\mathbf{x} \\in \\mathbb{R^n} ,\\ x_1 \\in \\mathbb{R}$)\n",
    "- Matrix is a 2-D array of numbers ($\\mathbf{X} \\in \\mathbb{R^{m*n}} ,\\ X_{1,1} \\in \\mathbb{R}$)\n",
    "- Tensor in an array of numbers with variable amount of axes ($\\mathsf{X} \\in \\mathsf{R^{i*j*k}} ,\\ \\mathsf{X_{1,1,1}} \\in \\mathbb{R}$)\n",
    "\n",
    "Matrix multiplication is distributive $$A(B+C)=AB+AC$$ and associative $$A(BC)=(AB)C$$ but not commutive $$AB \\ne BA$$"
   ]
  },
  {
   "cell_type": "markdown",
   "metadata": {},
   "source": [
    "(Matrix multiplication is defined the way it is to be able to represent linear transformations in a natural way: https://www.quora.com/Linear-Algebra-Why-is-matrix-multiplication-defined-the-way-it-is-1)"
   ]
  },
  {
   "cell_type": "markdown",
   "metadata": {},
   "source": [
    "$A^{-1}A=I$"
   ]
  }
 ],
 "metadata": {
  "anaconda-cloud": {},
  "kernelspec": {
   "display_name": "Python [conda root]",
   "language": "python",
   "name": "conda-root-py"
  },
  "language_info": {
   "codemirror_mode": {
    "name": "ipython",
    "version": 3
   },
   "file_extension": ".py",
   "mimetype": "text/x-python",
   "name": "python",
   "nbconvert_exporter": "python",
   "pygments_lexer": "ipython3",
   "version": "3.5.2"
  }
 },
 "nbformat": 4,
 "nbformat_minor": 1
}
