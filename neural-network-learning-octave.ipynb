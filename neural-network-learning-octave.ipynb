{
 "cells": [
  {
   "cell_type": "code",
   "execution_count": 2,
   "metadata": {
    "collapsed": false
   },
   "outputs": [],
   "source": [
    "%% Machine Learning Online Class - Exercise 4 Neural Network Learning\n",
    "\n",
    "%  Instructions\n",
    "%  ------------\n",
    "% \n",
    "%  This file contains code that helps you get started on the\n",
    "%  linear exercise. You will need to complete the following functions \n",
    "%  in this exericse:\n",
    "%\n",
    "%     sigmoidGradient.m\n",
    "%     randInitializeWeights.m\n",
    "%     nnCostFunction.m\n",
    "%\n",
    "%  For this exercise, you will not need to change any code in this file,\n",
    "%  or any other files other than those mentioned above.\n",
    "%\n",
    "\n",
    "%% Initialization\n",
    "%clear ; close all; clc\n",
    "\n",
    "%% Setup the parameters you will use for this exercise\n",
    "input_layer_size  = 400;  % 20x20 Input Images of Digits\n",
    "hidden_layer_size = 25;   % 25 hidden units\n",
    "num_labels = 10;          % 10 labels, from 1 to 10   \n",
    "                          % (note that we have mapped \"0\" to label 10)\n",
    "\n",
    "%% =========== Part 1: Loading and Visualizing Data =============\n",
    "%  We start the exercise by first loading and visualizing the dataset. \n",
    "%  You will be working with a dataset that contains handwritten digits.\n",
    "%\n",
    "\n",
    "% Load Training Data\n",
    "\n",
    "load('exercises/ex4/ex4data1.mat');\n",
    "m = size(X, 1);\n",
    "\n",
    "% Randomly select 100 data points to display\n",
    "%sel = randperm(size(X, 1));\n",
    "%sel = sel(1:100);\n",
    "\n",
    "%displayData(X(sel, :));"
   ]
  },
  {
   "cell_type": "code",
   "execution_count": 14,
   "metadata": {
    "collapsed": false
   },
   "outputs": [
    {
     "name": "stdout",
     "output_type": "stream",
     "text": [
      "ans =\n",
      "\n",
      "   10285       1\n",
      "\n",
      "ans =\n",
      "\n",
      "    25   401\n",
      "\n",
      "ans =\n",
      "\n",
      "   10   26\n",
      "\n"
     ]
    }
   ],
   "source": [
    "%% ================ Part 2: Loading Parameters ================\n",
    "% In this part of the exercise, we load some pre-initialized \n",
    "% neural network parameters.\n",
    "\n",
    "% Load the weights into variables Theta1 and Theta2\n",
    "load('exercises/ex4/ex4weights.mat');    \n",
    "\n",
    "% Unroll parameters \n",
    "nn_params = [Theta1(:) ; Theta2(:)];"
   ]
  },
  {
   "cell_type": "code",
   "execution_count": 16,
   "metadata": {
    "collapsed": true
   },
   "outputs": [],
   "source": [
    "function g = sigmoid(z)\n",
    "    g = 1.0 ./ (1.0 + exp(-z));\n",
    "end"
   ]
  },
  {
   "cell_type": "code",
   "execution_count": null,
   "metadata": {
    "collapsed": true
   },
   "outputs": [],
   "source": [
    "X = [ones(m,1) X];\n",
    "for i=1:m\n",
    "    a = sigmoid(Theta1*X(i,:)');\n",
    "    a = [1;a];\n",
    "\n",
    "    h = sigmoid(Theta2*a);\n",
    "\n",
    "    [value index] = max(h);\n",
    "\n",
    "    yx = zeros(size(h));\n",
    "    yx(index) = 1;\n",
    "\n",
    "    J = J + ( -yx'*log(h) - (1-yx)'*log(1-h) );\n",
    "end\n",
    "J = J / m;"
   ]
  },
  {
   "cell_type": "code",
   "execution_count": 65,
   "metadata": {
    "collapsed": false
   },
   "outputs": [
    {
     "name": "stdout",
     "output_type": "stream",
     "text": [
      "ans =  0.24633\r\n"
     ]
    }
   ],
   "source": [
    "%% ================ Part 3: Compute Cost (Feedforward) ================\n",
    "%  To the neural network, you should first start by implementing the\n",
    "%  feedforward part of the neural network that returns the cost only. You\n",
    "%  should complete the code in nnCostFunction.m to return cost. After\n",
    "%  implementing the feedforward to compute the cost, you can verify that\n",
    "%  your implementation is correct by verifying that you get the same cost\n",
    "%  as us for the fixed debugging parameters.\n",
    "%\n",
    "%  We suggest implementing the feedforward cost *without* regularization\n",
    "%  first so that it will be easier for you to debug. Later, in part 4, you\n",
    "%  will get to implement the regularized cost.\n",
    "%\n",
    "\n",
    "function [J grad] = nnCostFunction(nn_params, input_layer_size, hidden_layer_size, num_labels, X, y, lambda)\n",
    "    %NNCOSTFUNCTION Implements the neural network cost function for a two layer\n",
    "    %neural network which performs classification\n",
    "    %   [J grad] = NNCOSTFUNCTON(nn_params, hidden_layer_size, num_labels, ...\n",
    "    %   X, y, lambda) computes the cost and gradient of the neural network. The\n",
    "    %   parameters for the neural network are \"unrolled\" into the vector\n",
    "    %   nn_params and need to be converted back into the weight matrices. \n",
    "    % \n",
    "    %   The returned parameter grad should be a \"unrolled\" vector of the\n",
    "    %   partial derivatives of the neural network.\n",
    "    %\n",
    "    \n",
    "    % Reshape nn_params back into the parameters Theta1 and Theta2, the weight matrices\n",
    "    % for our 2 layer neural network\n",
    "    Theta1 = reshape(nn_params(1:hidden_layer_size * (input_layer_size + 1)), hidden_layer_size, (input_layer_size + 1));\n",
    "\n",
    "    Theta2 = reshape(nn_params((1 + (hidden_layer_size * (input_layer_size + 1))):end), num_labels, (hidden_layer_size + 1));\n",
    "\n",
    "    % Setup some useful variables\n",
    "    m = size(X, 1);\n",
    "\n",
    "    % You need to return the following variables correctly \n",
    "    J = 0;\n",
    "    Theta1_grad = zeros(size(Theta1));\n",
    "    Theta2_grad = zeros(size(Theta2));\n",
    "\n",
    "    % ====================== YOUR CODE HERE ======================\n",
    "    % Instructions: You should complete the code by working through the\n",
    "    %               following parts.\n",
    "    %\n",
    "    % Part 1: Feedforward the neural network and return the cost in the\n",
    "    %         variable J. After implementing Part 1, you can verify that your\n",
    "    %         cost function computation is correct by verifying the cost\n",
    "    %         computed in ex4.m\n",
    "    %\n",
    "    % Part 2: Implement the backpropagation algorithm to compute the gradients\n",
    "    %         Theta1_grad and Theta2_grad. You should return the partial derivatives of\n",
    "    %         the cost function with respect to Theta1 and Theta2 in Theta1_grad and\n",
    "    %         Theta2_grad, respectively. After implementing Part 2, you can check\n",
    "    %         that your implementation is correct by running checkNNGradients\n",
    "    %\n",
    "    %         Note: The vector y passed into the function is a vector of labels\n",
    "    %               containing values from 1..K. You need to map this vector into a \n",
    "    %               binary vector of 1's and 0's to be used with the neural network\n",
    "    %               cost function.\n",
    "    %\n",
    "    %         Hint: We recommend implementing backpropagation using a for-loop\n",
    "    %               over the training examples if you are implementing it for the \n",
    "    %               first time.\n",
    "    %\n",
    "    % Part 3: Implement regularization with the cost function and gradients.\n",
    "    %\n",
    "    %         Hint: You can implement this around the code for\n",
    "    %               backpropagation. That is, you can compute the gradients for\n",
    "    %               the regularization separately and then add them to Theta1_grad\n",
    "    %               and Theta2_grad from Part 2.\n",
    "    %\n",
    "\n",
    "    %size(X)\n",
    "    X = [ones(m,1) X];\n",
    "    %size(X)\n",
    "    \n",
    "    for i=1:m\n",
    "        %X(1,:)\n",
    "        %Theta1\n",
    "        %size(Theta1)\n",
    "        %size(X(i,:)')\n",
    "        %size(Theta1*X(i,:)')\n",
    "        %h = sigmoid(X(i,:)*Theta1');\n",
    "        a = sigmoid(Theta1*X(i,:)');\n",
    "        %a\n",
    "        \n",
    "        a = [1;a];\n",
    "        \n",
    "        h = sigmoid(Theta2*a);\n",
    "        \n",
    "        [value index] = max(h);\n",
    "        \n",
    "        %h = index;\n",
    "        \n",
    "        %size(y)\n",
    "        %y(2000:2010,:)\n",
    "        \n",
    "        %y(i,:)\n",
    "        %h\n",
    "        \n",
    "        yx = zeros(size(h));\n",
    "        yx(index) = 1;\n",
    "        %yx\n",
    "\n",
    "        %J = J + ( -y'*log(h) - (1-y)'*log(1-h) ) / m;\n",
    "        %J = J + ( -y(i,:)*log(h) - (1-y(i,:))*log(1-h) );\n",
    "        J = J + ( -yx'*log(h) - (1-yx)'*log(1-h) );\n",
    "        \n",
    "        %J\n",
    "    end\n",
    "    \n",
    "    J / m\n",
    "    \n",
    "    %XOK = X(:, 2:end);\n",
    "    %thetaOK = theta(2:end,:);\n",
    "    \n",
    "    %h = sigmoid(X*theta);\n",
    "    \n",
    "    %J = ( -y'*log(h) - (1-y)'*log(1-h) ) / m + lambda * sum(thetaOK.^2) / (2*m);\n",
    "    %J = ( -y'*log(h) - (1-y)'*log(1-h) ) / m;\n",
    "\n",
    "    %grad(1,:) = X(:,1)'*(h - y) / m;\n",
    "    %grad(2:end,:) = XOK'*(h - y) / m + lambda*thetaOK / m;\n",
    "    %grad = X'*(h - y) / m;\n",
    "\n",
    "    % -------------------------------------------------------------\n",
    "\n",
    "    % =========================================================================\n",
    "\n",
    "    % Unroll gradients\n",
    "    grad = [Theta1_grad(:) ; Theta2_grad(:)];\n",
    "\n",
    "end\n",
    "\n",
    "% Weight regularization parameter (we set this to 0 here).\n",
    "lambda = 0;\n",
    "\n",
    "[J grad] = nnCostFunction(nn_params, input_layer_size, hidden_layer_size, num_labels, X, y, lambda);\n",
    "\n",
    "%fprintf(['Cost at parameters (loaded from ex4weights): %f \\n(this value should be about 0.287629)\\n'], J);"
   ]
  },
  {
   "cell_type": "code",
   "execution_count": null,
   "metadata": {
    "collapsed": true
   },
   "outputs": [],
   "source": [
    "%% =============== Part 4: Implement Regularization ===============\n",
    "%  Once your cost function implementation is correct, you should now\n",
    "%  continue to implement the regularization with the cost.\n",
    "%\n",
    "\n",
    "% Weight regularization parameter (we set this to 1 here).\n",
    "lambda = 1;\n",
    "\n",
    "J = nnCostFunction(nn_params, input_layer_size, hidden_layer_size, num_labels, X, y, lambda);\n",
    "\n",
    "%fprintf(['Cost at parameters (loaded from ex4weights): %f \\n(this value should be about 0.383770)\\n'], J);"
   ]
  },
  {
   "cell_type": "code",
   "execution_count": null,
   "metadata": {
    "collapsed": true
   },
   "outputs": [],
   "source": [
    "%% ================ Part 5: Sigmoid Gradient  ================\n",
    "%  Before you start implementing the neural network, you will first\n",
    "%  implement the gradient for the sigmoid function. You should complete the\n",
    "%  code in the sigmoidGradient.m file.\n",
    "%\n",
    "\n",
    "g = sigmoidGradient([1 -0.5 0 0.5 1]);\n",
    "fprintf('Sigmoid gradient evaluated at [1 -0.5 0 0.5 1]:\\n  ');\n",
    "fprintf('%f ', g);\n",
    "fprintf('\\n\\n');"
   ]
  },
  {
   "cell_type": "code",
   "execution_count": null,
   "metadata": {
    "collapsed": true
   },
   "outputs": [],
   "source": [
    "%% ================ Part 6: Initializing Pameters ================\n",
    "%  In this part of the exercise, you will be starting to implment a two\n",
    "%  layer neural network that classifies digits. You will start by\n",
    "%  implementing a function to initialize the weights of the neural network\n",
    "%  (randInitializeWeights.m)\n",
    "\n",
    "fprintf('\\nInitializing Neural Network Parameters ...\\n')\n",
    "\n",
    "initial_Theta1 = randInitializeWeights(input_layer_size, hidden_layer_size);\n",
    "initial_Theta2 = randInitializeWeights(hidden_layer_size, num_labels);\n",
    "\n",
    "% Unroll parameters\n",
    "initial_nn_params = [initial_Theta1(:) ; initial_Theta2(:)];"
   ]
  },
  {
   "cell_type": "code",
   "execution_count": null,
   "metadata": {
    "collapsed": true
   },
   "outputs": [],
   "source": [
    "%% =============== Part 7: Implement Backpropagation ===============\n",
    "%  Once your cost matches up with ours, you should proceed to implement the\n",
    "%  backpropagation algorithm for the neural network. You should add to the\n",
    "%  code you've written in nnCostFunction.m to return the partial\n",
    "%  derivatives of the parameters.\n",
    "%\n",
    "fprintf('\\nChecking Backpropagation... \\n');\n",
    "\n",
    "%  Check gradients by running checkNNGradients\n",
    "checkNNGradients;\n",
    "\n",
    "fprintf('\\nProgram paused. Press enter to continue.\\n');\n",
    "pause;"
   ]
  },
  {
   "cell_type": "code",
   "execution_count": null,
   "metadata": {
    "collapsed": true
   },
   "outputs": [],
   "source": [
    "%% =============== Part 8: Implement Regularization ===============\n",
    "%  Once your backpropagation implementation is correct, you should now\n",
    "%  continue to implement the regularization with the cost and gradient.\n",
    "%\n",
    "\n",
    "%  Check gradients by running checkNNGradients\n",
    "lambda = 3;\n",
    "checkNNGradients(lambda);\n",
    "\n",
    "% Also output the costFunction debugging values\n",
    "debug_J  = nnCostFunction(nn_params, input_layer_size, hidden_layer_size, num_labels, X, y, lambda);\n",
    "\n",
    "%fprintf(['\\n\\nCost at (fixed) debugging parameters (w/ lambda = 10): %f \\n(this value should be about 0.576051)\\n\\n'], debug_J);\n"
   ]
  },
  {
   "cell_type": "code",
   "execution_count": null,
   "metadata": {
    "collapsed": true
   },
   "outputs": [],
   "source": [
    "%% =================== Part 9: Training NN ===================\n",
    "%  You have now implemented all the code necessary to train a neural \n",
    "%  network. To train your neural network, we will now use \"fmincg\", which\n",
    "%  is a function which works similarly to \"fminunc\". Recall that these\n",
    "%  advanced optimizers are able to train our cost functions efficiently as\n",
    "%  long as we provide them with the gradient computations.\n",
    "%\n",
    "\n",
    "%  After you have completed the assignment, change the MaxIter to a larger\n",
    "%  value to see how more training helps.\n",
    "options = optimset('MaxIter', 50);\n",
    "\n",
    "%  You should also try different values of lambda\n",
    "lambda = 1;\n",
    "\n",
    "% Create \"short hand\" for the cost function to be minimized\n",
    "costFunction = @(p) nnCostFunction(p, input_layer_size, hidden_layer_size, num_labels, X, y, lambda);\n",
    "\n",
    "% Now, costFunction is a function that takes in only one argument (the\n",
    "% neural network parameters)\n",
    "[nn_params, cost] = fmincg(costFunction, initial_nn_params, options);\n",
    "\n",
    "% Obtain Theta1 and Theta2 back from nn_params\n",
    "Theta1 = reshape(nn_params(1:hidden_layer_size * (input_layer_size + 1)), hidden_layer_size, (input_layer_size + 1));\n",
    "\n",
    "Theta2 = reshape(nn_params((1 + (hidden_layer_size * (input_layer_size + 1))):end), num_labels, (hidden_layer_size + 1));\n"
   ]
  },
  {
   "cell_type": "code",
   "execution_count": null,
   "metadata": {
    "collapsed": true
   },
   "outputs": [],
   "source": [
    "%% ================= Part 10: Visualize Weights =================\n",
    "%  You can now \"visualize\" what the neural network is learning by \n",
    "%  displaying the hidden units to see what features they are capturing in \n",
    "%  the data.\n",
    "\n",
    "%displayData(Theta1(:, 2:end));\n",
    "\n",
    "%fprintf('\\nProgram paused. Press enter to continue.\\n');\n",
    "%pause;"
   ]
  },
  {
   "cell_type": "code",
   "execution_count": null,
   "metadata": {
    "collapsed": true
   },
   "outputs": [],
   "source": [
    "%% ================= Part 11: Implement Predict =================\n",
    "%  After training the neural network, we would like to use it to predict\n",
    "%  the labels. You will now implement the \"predict\" function to use the\n",
    "%  neural network to predict the labels of the training set. This lets\n",
    "%  you compute the training set accuracy.\n",
    "\n",
    "pred = predict(Theta1, Theta2, X);\n",
    "\n",
    "fprintf('\\nTraining Set Accuracy: %f\\n', mean(double(pred == y)) * 100);"
   ]
  }
 ],
 "metadata": {
  "kernelspec": {
   "display_name": "Octave",
   "language": "octave",
   "name": "octave"
  },
  "language_info": {
   "file_extension": ".m",
   "help_links": [
    {
     "text": "MetaKernel Magics",
     "url": "https://github.com/calysto/metakernel/blob/master/metakernel/magics/README.md"
    }
   ],
   "mimetype": "text/x-octave",
   "name": "octave",
   "version": "0.16.0"
  }
 },
 "nbformat": 4,
 "nbformat_minor": 0
}
